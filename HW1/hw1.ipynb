{
 "cells": [
  {
   "cell_type": "code",
   "execution_count": 1,
   "id": "bea8cc2d",
   "metadata": {},
   "outputs": [
    {
     "data": {
      "text/plain": [
       "3.505453712067028"
      ]
     },
     "execution_count": 1,
     "metadata": {},
     "output_type": "execute_result"
    }
   ],
   "source": [
    "151 ** (0.25)"
   ]
  },
  {
   "cell_type": "code",
   "execution_count": 2,
   "id": "a4c37d54",
   "metadata": {},
   "outputs": [
    {
     "data": {
      "text/plain": [
       "6.300703649796459"
      ]
     },
     "execution_count": 2,
     "metadata": {},
     "output_type": "execute_result"
    }
   ],
   "source": [
    "1576**(0.25)"
   ]
  },
  {
   "cell_type": "code",
   "execution_count": 3,
   "id": "89e5d829",
   "metadata": {},
   "outputs": [
    {
     "data": {
      "text/plain": [
       "3150"
      ]
     },
     "execution_count": 3,
     "metadata": {},
     "output_type": "execute_result"
    }
   ],
   "source": [
    "3300-150"
   ]
  },
  {
   "cell_type": "code",
   "execution_count": 16,
   "id": "e70e1f16",
   "metadata": {},
   "outputs": [
    {
     "data": {
      "text/plain": [
       "525.0"
      ]
     },
     "execution_count": 16,
     "metadata": {},
     "output_type": "execute_result"
    }
   ],
   "source": [
    "3150/6"
   ]
  },
  {
   "cell_type": "code",
   "execution_count": 5,
   "id": "1637e529",
   "metadata": {},
   "outputs": [
    {
     "data": {
      "text/plain": [
       "600"
      ]
     },
     "execution_count": 5,
     "metadata": {},
     "output_type": "execute_result"
    }
   ],
   "source": [
    "150+450"
   ]
  },
  {
   "cell_type": "code",
   "execution_count": 18,
   "id": "3a490255",
   "metadata": {},
   "outputs": [
    {
     "name": "stdout",
     "output_type": "stream",
     "text": [
      "675\n",
      "1200\n",
      "1725\n",
      "2250\n",
      "2775\n",
      "3300\n"
     ]
    }
   ],
   "source": [
    "x = 150\n",
    "for i in range(6):\n",
    "    x += 525\n",
    "    print(x)"
   ]
  },
  {
   "cell_type": "code",
   "execution_count": 21,
   "id": "08c76bab",
   "metadata": {},
   "outputs": [
    {
     "data": {
      "text/plain": [
       "1987.5"
      ]
     },
     "execution_count": 21,
     "metadata": {},
     "output_type": "execute_result"
    }
   ],
   "source": [
    "(2250 + 1725)/2"
   ]
  },
  {
   "cell_type": "code",
   "execution_count": 20,
   "id": "bd71363c",
   "metadata": {},
   "outputs": [
    {
     "data": {
      "text/plain": [
       "262.5"
      ]
     },
     "execution_count": 20,
     "metadata": {},
     "output_type": "execute_result"
    }
   ],
   "source": [
    "525/2"
   ]
  },
  {
   "cell_type": "code",
   "execution_count": 22,
   "id": "ece1ac47",
   "metadata": {},
   "outputs": [
    {
     "data": {
      "text/plain": [
       "1987"
      ]
     },
     "execution_count": 22,
     "metadata": {},
     "output_type": "execute_result"
    }
   ],
   "source": [
    "262 + 1725"
   ]
  },
  {
   "cell_type": "code",
   "execution_count": 23,
   "id": "afca9bbd",
   "metadata": {},
   "outputs": [
    {
     "data": {
      "text/plain": [
       "6.445553207885416"
      ]
     },
     "execution_count": 23,
     "metadata": {},
     "output_type": "execute_result"
    }
   ],
   "source": [
    "(1+1725)**(0.25) "
   ]
  },
  {
   "cell_type": "code",
   "execution_count": 24,
   "id": "d3cd93e1",
   "metadata": {},
   "outputs": [
    {
     "data": {
      "text/plain": [
       "6.888011662091306"
      ]
     },
     "execution_count": 24,
     "metadata": {},
     "output_type": "execute_result"
    }
   ],
   "source": [
    "2251 ** (0.25)"
   ]
  },
  {
   "cell_type": "code",
   "execution_count": 25,
   "id": "4821c8ae",
   "metadata": {},
   "outputs": [
    {
     "data": {
      "text/plain": [
       "6.445553207885416"
      ]
     },
     "execution_count": 25,
     "metadata": {},
     "output_type": "execute_result"
    }
   ],
   "source": [
    "1726**(0.25)"
   ]
  },
  {
   "cell_type": "code",
   "execution_count": 26,
   "id": "b669678b",
   "metadata": {},
   "outputs": [
    {
     "data": {
      "text/plain": [
       "1720.0594969600004"
      ]
     },
     "execution_count": 26,
     "metadata": {},
     "output_type": "execute_result"
    }
   ],
   "source": [
    "6.44**4"
   ]
  },
  {
   "cell_type": "code",
   "execution_count": null,
   "id": "8a667c44",
   "metadata": {},
   "outputs": [],
   "source": []
  }
 ],
 "metadata": {
  "kernelspec": {
   "display_name": "Python 3 (ipykernel)",
   "language": "python",
   "name": "python3"
  },
  "language_info": {
   "codemirror_mode": {
    "name": "ipython",
    "version": 3
   },
   "file_extension": ".py",
   "mimetype": "text/x-python",
   "name": "python",
   "nbconvert_exporter": "python",
   "pygments_lexer": "ipython3",
   "version": "3.9.7"
  }
 },
 "nbformat": 4,
 "nbformat_minor": 5
}
